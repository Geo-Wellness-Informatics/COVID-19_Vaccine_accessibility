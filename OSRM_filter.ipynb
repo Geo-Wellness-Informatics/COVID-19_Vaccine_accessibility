{
 "cells": [
  {
   "cell_type": "code",
   "execution_count": 1,
   "id": "2cf07959",
   "metadata": {},
   "outputs": [
    {
     "name": "stdout",
     "output_type": "stream",
     "text": [
      "Defaulting to user installation because normal site-packages is not writeable\n",
      "Requirement already satisfied: geopandas in c:\\users\\u3603957\\appdata\\roaming\\python\\python39\\site-packages (0.14.1)\n",
      "Requirement already satisfied: shapely in c:\\users\\u3603957\\appdata\\roaming\\python\\python39\\site-packages (2.0.2)\n",
      "Requirement already satisfied: tqdm in c:\\users\\u3603957\\appdata\\roaming\\python\\python39\\site-packages (4.66.1)\n",
      "Requirement already satisfied: pyproj>=3.3.0 in c:\\users\\u3603957\\appdata\\roaming\\python\\python39\\site-packages (from geopandas) (3.6.1)\n",
      "Requirement already satisfied: packaging in c:\\program files\\arcgis\\pro\\bin\\python\\envs\\arcgispro-py3\\lib\\site-packages (from geopandas) (21.3)\n",
      "Requirement already satisfied: pandas>=1.4.0 in c:\\users\\u3603957\\appdata\\roaming\\python\\python39\\site-packages (from geopandas) (2.1.4)\n",
      "Requirement already satisfied: fiona>=1.8.21 in c:\\users\\u3603957\\appdata\\roaming\\python\\python39\\site-packages (from geopandas) (1.9.5)\n",
      "Requirement already satisfied: numpy>=1.14 in c:\\users\\u3603957\\appdata\\roaming\\python\\python39\\site-packages (from shapely) (1.22.4)\n",
      "Requirement already satisfied: colorama in c:\\program files\\arcgis\\pro\\bin\\python\\envs\\arcgispro-py3\\lib\\site-packages (from tqdm) (0.4.4)\n",
      "Requirement already satisfied: importlib-metadata in c:\\program files\\arcgis\\pro\\bin\\python\\envs\\arcgispro-py3\\lib\\site-packages (from fiona>=1.8.21->geopandas) (4.11.3)\n",
      "Requirement already satisfied: click-plugins>=1.0 in c:\\users\\u3603957\\appdata\\roaming\\python\\python39\\site-packages (from fiona>=1.8.21->geopandas) (1.1.1)\n",
      "Requirement already satisfied: cligj>=0.5 in c:\\users\\u3603957\\appdata\\roaming\\python\\python39\\site-packages (from fiona>=1.8.21->geopandas) (0.7.2)\n",
      "Requirement already satisfied: setuptools in c:\\program files\\arcgis\\pro\\bin\\python\\envs\\arcgispro-py3\\lib\\site-packages (from fiona>=1.8.21->geopandas) (60.10.0)\n",
      "Requirement already satisfied: click~=8.0 in c:\\program files\\arcgis\\pro\\bin\\python\\envs\\arcgispro-py3\\lib\\site-packages (from fiona>=1.8.21->geopandas) (8.0.4)\n",
      "Requirement already satisfied: attrs>=19.2.0 in c:\\program files\\arcgis\\pro\\bin\\python\\envs\\arcgispro-py3\\lib\\site-packages (from fiona>=1.8.21->geopandas) (21.4.0)\n",
      "Requirement already satisfied: six in c:\\program files\\arcgis\\pro\\bin\\python\\envs\\arcgispro-py3\\lib\\site-packages (from fiona>=1.8.21->geopandas) (1.16.0)\n",
      "Requirement already satisfied: certifi in c:\\program files\\arcgis\\pro\\bin\\python\\envs\\arcgispro-py3\\lib\\site-packages (from fiona>=1.8.21->geopandas) (2021.10.8)\n",
      "Requirement already satisfied: python-dateutil>=2.8.2 in c:\\program files\\arcgis\\pro\\bin\\python\\envs\\arcgispro-py3\\lib\\site-packages (from pandas>=1.4.0->geopandas) (2.8.2)\n",
      "Requirement already satisfied: tzdata>=2022.1 in c:\\users\\u3603957\\appdata\\roaming\\python\\python39\\site-packages (from pandas>=1.4.0->geopandas) (2023.3)\n",
      "Requirement already satisfied: pytz>=2020.1 in c:\\program files\\arcgis\\pro\\bin\\python\\envs\\arcgispro-py3\\lib\\site-packages\\pytz-2022.1-py3.9.egg (from pandas>=1.4.0->geopandas) (2022.1)\n",
      "Requirement already satisfied: zipp>=0.5 in c:\\program files\\arcgis\\pro\\bin\\python\\envs\\arcgispro-py3\\lib\\site-packages (from importlib-metadata->fiona>=1.8.21->geopandas) (3.7.0)\n",
      "Requirement already satisfied: pyparsing!=3.0.5,>=2.0.2 in c:\\program files\\arcgis\\pro\\bin\\python\\envs\\arcgispro-py3\\lib\\site-packages (from packaging->geopandas) (3.0.4)\n"
     ]
    }
   ],
   "source": [
    "!pip install geopandas shapely tqdm"
   ]
  },
  {
   "cell_type": "code",
   "execution_count": null,
   "id": "754e35fa",
   "metadata": {},
   "outputs": [],
   "source": [
    "import geopandas as gpd\n",
    "from shapely.geometry import Point\n",
    "from scipy.spatial import cKDTree\n",
    "import numpy as np\n",
    "from tqdm import tqdm\n",
    "import pandas as pd\n",
    "import numpy as np\n"
   ]
  },
  {
   "cell_type": "code",
   "execution_count": 7,
   "id": "89e6a405",
   "metadata": {},
   "outputs": [],
   "source": [
    "# Load shp file\n",
    "gdf_origin = gpd.read_file(\"T:/California/Sacramento/Sa_pop.shp\")\n",
    "gdf_dest = gpd.read_file(\"T:/California/Sacramento/Sa_vac.shp\")"
   ]
  },
  {
   "cell_type": "code",
   "execution_count": 8,
   "id": "81071075",
   "metadata": {},
   "outputs": [],
   "source": [
    "# Convert CRS to UTM projected coordinates (select according to region)\n",
    "gdf_origin = gdf_origin.to_crs(\"EPSG:3857\")\n",
    "gdf_dest = gdf_dest.to_crs(\"EPSG:3857\")"
   ]
  },
  {
   "cell_type": "code",
   "execution_count": 9,
   "id": "0eb93a72",
   "metadata": {},
   "outputs": [],
   "source": [
    "# 对于 gdf_origin GeoDataFrame\n",
    "origin_points = gdf_origin.geometry.apply(lambda geom: (geom.x, geom.y) if geom is not None else (None, None)).tolist()\n",
    "\n",
    "# 对于 gdf_dest GeoDataFrame\n",
    "dest_points = gdf_dest.geometry.apply(lambda geom: (geom.x, geom.y) if geom is not None else (None, None)).tolist()"
   ]
  },
  {
   "cell_type": "code",
   "execution_count": 12,
   "id": "b7f253bb",
   "metadata": {},
   "outputs": [
    {
     "name": "stderr",
     "output_type": "stream",
     "text": [
      "C:\\Users\\u3603957\\AppData\\Roaming\\Python\\Python39\\site-packages\\numpy\\core\\fromnumeric.py:57: FutureWarning: 'GeoDataFrame.swapaxes' is deprecated and will be removed in a future version. Please use 'GeoDataFrame.transpose' instead.\n",
      "  return bound(*args, **kwds)\n",
      "C:\\Users\\u3603957\\AppData\\Roaming\\Python\\Python39\\site-packages\\numpy\\core\\fromnumeric.py:57: FutureWarning: 'GeoDataFrame.swapaxes' is deprecated and will be removed in a future version. Please use 'GeoDataFrame.transpose' instead.\n",
      "  return bound(*args, **kwds)\n",
      "Processing split 1/1: 100%|████████████████████████████████████████████████████████| 1812/1812 [01:49<00:00, 16.51it/s]\n"
     ]
    }
   ],
   "source": [
    "from tqdm import tqdm\n",
    "from shapely.geometry import Point\n",
    "from scipy.spatial import cKDTree\n",
    "import geopandas as gpd\n",
    "import numpy as np\n",
    "import os\n",
    "\n",
    "k = len(gdf_dest)\n",
    "dest_coords = np.array(list(zip(gdf_dest.geometry.x, gdf_dest.geometry.y)))\n",
    "tree = cKDTree(dest_coords)\n",
    "#这里要设定用几个excel跑，如果文件很大，就多用几个，上面有orgin和dest的输出，可以大致估计一下\n",
    "num_splits = 1\n",
    "split_size = len(gdf_origin) // num_splits\n",
    "splits = np.array_split(gdf_origin, num_splits)\n",
    "\n",
    "for split_index, split in enumerate(splits):\n",
    "    split_origin_coords = np.array([(row.geometry.x, row.geometry.y) for index, row in split.iterrows()])\n",
    "    distances, indices = tree.query(split_origin_coords, k=k)\n",
    "    data = []\n",
    "\n",
    "    for i in tqdm(range(len(split_origin_coords)), desc=f\"Processing split {split_index+1}/{num_splits}\"):\n",
    "        origin = split.iloc[i]\n",
    "        origin_point = Point(split_origin_coords[i])\n",
    "        for j in range(k):\n",
    "            dest_idx = indices[i][j]\n",
    "            dest_point = Point(dest_coords[dest_idx])\n",
    "            distance = distances[i][j] / 1000  # Convert distance to kilometers\n",
    "            data.append({\n",
    "                'origin': origin_point,\n",
    "                'dest': dest_point,\n",
    "                'distance': distance,\n",
    "                'pointid': origin.get('pointid', None),\n",
    "                'grid_code': origin.get('grid_code', None)\n",
    "            })\n",
    "\n",
    "    gdf_result = gpd.GeoDataFrame(data, geometry='dest')\n",
    "    gdf_result.set_crs(gdf_dest.crs, inplace=True)\n",
    "    #改地址\n",
    "    output_dir = os.path.dirname(\"T:/California/\")\n",
    "    os.makedirs(output_dir, exist_ok=True)\n",
    "    #改名\n",
    "    file_path = os.path.join(output_dir, f\"Sa_pop_{split_index+1}.csv\")\n",
    "    gdf_result.to_csv(file_path, index=False)"
   ]
  },
  {
   "cell_type": "code",
   "execution_count": 1,
   "id": "d0041817",
   "metadata": {},
   "outputs": [
    {
     "data": {
      "application/vnd.jupyter.widget-view+json": {
       "model_id": "fc8a33736fb8401db12ced79001a248a",
       "version_major": 2,
       "version_minor": 0
      },
      "text/plain": [
       "Processing groups:   0%|          | 0/26912 [00:00<?, ?it/s]"
      ]
     },
     "metadata": {},
     "output_type": "display_data"
    }
   ],
   "source": [
    "\n",
    "\n",
    "import pandas as pd\n",
    "from tqdm.auto import tqdm\n",
    "gdf_result = pd.read_csv(\"C:/Users/u3603957/Downloads/Uganda/Uganda_pop_4.csv\")\n",
    "gdf_result['origin'] = gdf_result['origin'].astype(str)\n",
    "\n",
    "def filter_rows(group):\n",
    "    # 判断组内所有distance是否都大于100\n",
    "    if (group['distance'] > 100).all():\n",
    "        # 再判断组内所有distance是否都大于50\n",
    "        if (group['distance'] > 120).all():\n",
    "            # 如果是，则保留最小的一个distance\n",
    "            return group.nsmallest(1, 'distance')\n",
    "        else:\n",
    "            # 否则，保留所有小于等于50的distance，并从这些中保留最小的三个\n",
    "            return group[group['distance'] <= 120].nsmallest(3, 'distance')\n",
    "    else:\n",
    "        # 否则，保留所有小于等于30的distance\n",
    "        return group[group['distance'] <= 100]\n",
    "\n",
    "tqdm.pandas(desc=\"Processing groups\")\n",
    "result_new = gdf_result.groupby('origin', as_index=False, group_keys=False).progress_apply(filter_rows)\n",
    "\n",
    "\n",
    "\n",
    "import geopandas as gpd\n",
    "from shapely.wkt import loads\n",
    "if isinstance(result_new['origin'].iloc[0], str):\n",
    "    result_new['origin'] = result_new['origin'].apply(loads)\n",
    "if isinstance(result_new['dest'].iloc[0], str):\n",
    "    result_new['dest'] = result_new['dest'].apply(loads)\n",
    "\n",
    "gdf_result = gpd.GeoDataFrame(result_new, geometry='origin', crs=\"EPSG:3857\")\n",
    "gdf_result.set_geometry('origin', inplace=True)\n",
    "gdf_result['origin'] = gdf_result['origin'].to_crs(\"EPSG:4326\")\n",
    "\n",
    "gdf_result['dest'] = gpd.GeoSeries(gdf_result['dest'], crs=\"EPSG:3857\")\n",
    "gdf_result['dest'] = gdf_result['dest'].to_crs(\"EPSG:4326\")\n",
    "\n",
    "gdf_result.to_csv(\"C:/Users/u3603957/Downloads/Uganda/Uganda_filter_4.csv\")\n"
   ]
  }
 ],
 "metadata": {
  "kernelspec": {
   "display_name": "Python 3",
   "language": "python",
   "name": "python3"
  },
  "language_info": {
   "codemirror_mode": {
    "name": "ipython",
    "version": 3
   },
   "file_extension": ".py",
   "mimetype": "text/x-python",
   "name": "python",
   "nbconvert_exporter": "python",
   "pygments_lexer": "ipython3",
   "version": "3.9.11"
  }
 },
 "nbformat": 4,
 "nbformat_minor": 5
}

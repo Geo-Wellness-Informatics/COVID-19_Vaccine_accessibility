{
 "cells": [
  {
   "cell_type": "code",
   "execution_count": null,
   "id": "07eefbe2",
   "metadata": {},
   "outputs": [],
   "source": [
    "import urllib3\n",
    "import json\n",
    "http = urllib3.PoolManager()\n",
    "seed_url = \"https://api.us.castlighthealth.com/vaccine-finder/v1/provider-locations/search?\\\n",
    "medicationGuids=779bfe52-0dd8-4023-a183-457eb100fccc,a84fb9ed-deb4-461c-b785-e17c782ef88b,784db609-dc1f-45a5-bad6-8db02e79d44f\\\n",
    "&lat=32.87&long=-117.1&radius=25\"\n",
    "\n",
    "\n",
    "r = http.request('GET', seed_url,\n",
    "                headers={\n",
    "                    'Accept': 'text/html,application/xhtml+xml,application/xml;q=0.9,image/avif,image/webp,image/apng,*/*;q=0.8,application/signed-exchange;v=b3;q=0.9',\n",
    "                     })\n",
    "json.loads(r.data.decode('utf-8'))"
   ]
  },
  {
   "cell_type": "code",
   "execution_count": null,
   "id": "172515c6",
   "metadata": {},
   "outputs": [],
   "source": [
    "with open(r'C:\\Users\\yanji\\Desktop\\vxdoc.html') as fp:\n",
    "    soup=BeautifulSoup(fp,\"html.parser\")"
   ]
  },
  {
   "cell_type": "code",
   "execution_count": null,
   "id": "40049271",
   "metadata": {},
   "outputs": [],
   "source": [
    "addresses=soup.find_all(\"div\",class_=\"sc-bQCGiA hThXXM\")\n",
    "for i in range(len(addresses)):\n",
    "    address=addresses[i].text.strip()\n",
    "    print(address)\n"
   ]
  },
  {
   "cell_type": "code",
   "execution_count": null,
   "id": "f113433c",
   "metadata": {},
   "outputs": [],
   "source": [
    "zipcode=\"92122\"\n",
    "seed_url=\"https://www.vaccines.gov/results/?zipcode={}&medications=779bfe52-0dd8-4023-a183-457eb100fccc,a84fb9ed-deb4-461c-b785-e17c782ef88b,784db609-dc1f-45a5-bad6-8db02e79d44f&radius=1\".format(zipcode)\n",
    "html_text=requests.get(seed_url).text\n",
    "soup=BeautifulSoup(html_text,\"html.parser\")\n",
    "soup.find_all(\"div\",class_=\"sc-bQCGiA hThXXM\")\n",
    "for i in range(len(addresses)):\n",
    "    address=addresses[i].text.strip()\n",
    "#    print(address)"
   ]
  },
  {
   "cell_type": "code",
   "execution_count": null,
   "id": "4872d9e0",
   "metadata": {},
   "outputs": [],
   "source": [
    "import urllib3\n",
    "import json\n",
    "http = urllib3.PoolManager()\n",
    "seed_url = \"https://api.us.castlighthealth.com/vaccine-finder/v1/provider-locations/search?\\\n",
    "medicationGuids=779bfe52-0dd8-4023-a183-457eb100fccc,a84fb9ed-deb4-461c-b785-e17c782ef88b,784db609-dc1f-45a5-bad6-8db02e79d44f\\\n",
    "&lat=32.87&long=-117.1&radius=25\"\n",
    "\n",
    "\n",
    "r = http.request('GET', seed_url,\n",
    "                headers={\n",
    "                    'Accept': 'text/html,application/xhtml+xml,application/xml;q=0.9,image/avif,image/webp,image/apng,*/*;q=0.8,application/signed-exchange;v=b3;q=0.9',\n",
    "                     })\n",
    "json.loads(r.data.decode('utf-8'))"
   ]
  }
 ],
 "metadata": {
  "kernelspec": {
   "display_name": "Python 3 (ipykernel)",
   "language": "python",
   "name": "python3"
  },
  "language_info": {
   "codemirror_mode": {
    "name": "ipython",
    "version": 3
   },
   "file_extension": ".py",
   "mimetype": "text/x-python",
   "name": "python",
   "nbconvert_exporter": "python",
   "pygments_lexer": "ipython3",
   "version": "3.9.12"
  }
 },
 "nbformat": 4,
 "nbformat_minor": 5
}

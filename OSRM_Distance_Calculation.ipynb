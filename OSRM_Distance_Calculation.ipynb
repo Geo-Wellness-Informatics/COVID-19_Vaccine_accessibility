{
 "cells": [
  {
   "cell_type": "code",
   "execution_count": 18,
   "metadata": {},
   "outputs": [
    {
     "name": "stdout",
     "output_type": "stream",
     "text": [
      "Requirement already satisfied: geopandas in c:\\program files (x86)\\microsoft visual studio\\shared\\anaconda3_64\\lib\\site-packages (0.9.0)\n",
      "Requirement already satisfied: shapely in c:\\program files (x86)\\microsoft visual studio\\shared\\anaconda3_64\\lib\\site-packages (1.8.5.post1)\n",
      "Requirement already satisfied: tqdm in c:\\program files (x86)\\microsoft visual studio\\shared\\anaconda3_64\\lib\\site-packages (4.64.1)\n",
      "Requirement already satisfied: pandas>=0.24.0 in c:\\program files (x86)\\microsoft visual studio\\shared\\anaconda3_64\\lib\\site-packages (from geopandas) (1.1.5)\n",
      "Requirement already satisfied: fiona>=1.8 in c:\\program files (x86)\\microsoft visual studio\\shared\\anaconda3_64\\lib\\site-packages (from geopandas) (1.8.22)\n",
      "Requirement already satisfied: pyproj>=2.2.0 in c:\\program files (x86)\\microsoft visual studio\\shared\\anaconda3_64\\lib\\site-packages (from geopandas) (3.0.1)\n",
      "Requirement already satisfied: importlib-resources in c:\\program files (x86)\\microsoft visual studio\\shared\\anaconda3_64\\lib\\site-packages (from tqdm) (5.4.0)\n",
      "Requirement already satisfied: colorama in c:\\program files (x86)\\microsoft visual studio\\shared\\anaconda3_64\\lib\\site-packages (from tqdm) (0.3.9)\n",
      "Requirement already satisfied: certifi in c:\\program files (x86)\\microsoft visual studio\\shared\\anaconda3_64\\lib\\site-packages (from fiona>=1.8->geopandas) (2018.4.16)\n",
      "Requirement already satisfied: click>=4.0 in c:\\program files (x86)\\microsoft visual studio\\shared\\anaconda3_64\\lib\\site-packages (from fiona>=1.8->geopandas) (6.7)\n",
      "Requirement already satisfied: munch in c:\\program files (x86)\\microsoft visual studio\\shared\\anaconda3_64\\lib\\site-packages (from fiona>=1.8->geopandas) (4.0.0)\n",
      "Requirement already satisfied: setuptools in c:\\program files (x86)\\microsoft visual studio\\shared\\anaconda3_64\\lib\\site-packages (from fiona>=1.8->geopandas) (39.1.0)\n",
      "Requirement already satisfied: six>=1.7 in c:\\program files (x86)\\microsoft visual studio\\shared\\anaconda3_64\\lib\\site-packages (from fiona>=1.8->geopandas) (1.11.0)\n",
      "Requirement already satisfied: click-plugins>=1.0 in c:\\program files (x86)\\microsoft visual studio\\shared\\anaconda3_64\\lib\\site-packages (from fiona>=1.8->geopandas) (1.1.1)\n",
      "Requirement already satisfied: cligj>=0.5 in c:\\program files (x86)\\microsoft visual studio\\shared\\anaconda3_64\\lib\\site-packages (from fiona>=1.8->geopandas) (0.7.2)\n",
      "Requirement already satisfied: attrs>=17 in c:\\program files (x86)\\microsoft visual studio\\shared\\anaconda3_64\\lib\\site-packages (from fiona>=1.8->geopandas) (18.1.0)\n",
      "Requirement already satisfied: pytz>=2017.2 in c:\\program files (x86)\\microsoft visual studio\\shared\\anaconda3_64\\lib\\site-packages (from pandas>=0.24.0->geopandas) (2018.4)\n",
      "Requirement already satisfied: python-dateutil>=2.7.3 in c:\\program files (x86)\\microsoft visual studio\\shared\\anaconda3_64\\lib\\site-packages (from pandas>=0.24.0->geopandas) (2.7.3)\n",
      "Requirement already satisfied: numpy>=1.15.4 in c:\\program files (x86)\\microsoft visual studio\\shared\\anaconda3_64\\lib\\site-packages (from pandas>=0.24.0->geopandas) (1.19.5)\n",
      "Requirement already satisfied: zipp>=3.1.0 in c:\\program files (x86)\\microsoft visual studio\\shared\\anaconda3_64\\lib\\site-packages (from importlib-resources->tqdm) (3.6.0)\n",
      "Requirement already satisfied: importlib-metadata>=1.7.0 in c:\\program files (x86)\\microsoft visual studio\\shared\\anaconda3_64\\lib\\site-packages (from munch->fiona>=1.8->geopandas) (4.8.3)\n",
      "Requirement already satisfied: typing-extensions>=3.6.4 in c:\\program files (x86)\\microsoft visual studio\\shared\\anaconda3_64\\lib\\site-packages (from importlib-metadata>=1.7.0->munch->fiona>=1.8->geopandas) (4.1.1)\n",
      "Could not fetch URL https://pypi.org/simple/pip/: There was a problem confirming the ssl certificate: HTTPSConnectionPool(host='pypi.org', port=443): Max retries exceeded with url: /simple/pip/ (Caused by SSLError(SSLEOFError(8, 'EOF occurred in violation of protocol (_ssl.c:833)'),)) - skipping\n"
     ]
    }
   ],
   "source": [
    "!pip install geopandas shapely tqdm"
   ]
  },
  {
   "cell_type": "code",
   "execution_count": 25,
   "metadata": {},
   "outputs": [],
   "source": [
    "import geopandas as gpd\n",
    "from shapely.geometry import Point\n",
    "from scipy.spatial import cKDTree\n",
    "import numpy as np\n",
    "from tqdm import tqdm\n",
    "import pandas as pd\n",
    "import numpy as np\n",
    "\n",
    "# Load shp file\n",
    "gdf_origin = gpd.read_file(\"E:/Users/Administrator/Downloads/疫苗公平性/new_orgin_169.shp\")\n",
    "gdf_dest = gpd.read_file(\"E:/Users/Administrator/Downloads/疫苗公平性/new_vac.shp\")\n"
   ]
  },
  {
   "cell_type": "code",
   "execution_count": 26,
   "metadata": {},
   "outputs": [
    {
     "data": {
      "text/html": [
       "<div>\n",
       "<style scoped>\n",
       "    .dataframe tbody tr th:only-of-type {\n",
       "        vertical-align: middle;\n",
       "    }\n",
       "\n",
       "    .dataframe tbody tr th {\n",
       "        vertical-align: top;\n",
       "    }\n",
       "\n",
       "    .dataframe thead th {\n",
       "        text-align: right;\n",
       "    }\n",
       "</style>\n",
       "<table border=\"1\" class=\"dataframe\">\n",
       "  <thead>\n",
       "    <tr style=\"text-align: right;\">\n",
       "      <th></th>\n",
       "      <th>pointid</th>\n",
       "      <th>grid_code</th>\n",
       "      <th>Object</th>\n",
       "      <th>geometry</th>\n",
       "    </tr>\n",
       "  </thead>\n",
       "  <tbody>\n",
       "    <tr>\n",
       "      <th>0</th>\n",
       "      <td>6223</td>\n",
       "      <td>18.8979</td>\n",
       "      <td>6126.0</td>\n",
       "      <td>POINT (172.97000 -34.64500)</td>\n",
       "    </tr>\n",
       "    <tr>\n",
       "      <th>1</th>\n",
       "      <td>7888</td>\n",
       "      <td>30.7599</td>\n",
       "      <td>7791.0</td>\n",
       "      <td>POINT (173.08000 -34.77333)</td>\n",
       "    </tr>\n",
       "    <tr>\n",
       "      <th>2</th>\n",
       "      <td>8008</td>\n",
       "      <td>23.3576</td>\n",
       "      <td>7911.0</td>\n",
       "      <td>POINT (173.09000 -34.78083)</td>\n",
       "    </tr>\n",
       "    <tr>\n",
       "      <th>3</th>\n",
       "      <td>8283</td>\n",
       "      <td>10.2848</td>\n",
       "      <td>8175.0</td>\n",
       "      <td>POINT (173.11667 -34.81083)</td>\n",
       "    </tr>\n",
       "    <tr>\n",
       "      <th>4</th>\n",
       "      <td>8381</td>\n",
       "      <td>10.2018</td>\n",
       "      <td>8268.0</td>\n",
       "      <td>POINT (173.12583 -34.82167)</td>\n",
       "    </tr>\n",
       "    <tr>\n",
       "      <th>...</th>\n",
       "      <td>...</td>\n",
       "      <td>...</td>\n",
       "      <td>...</td>\n",
       "      <td>...</td>\n",
       "    </tr>\n",
       "    <tr>\n",
       "      <th>169798</th>\n",
       "      <td>400924</td>\n",
       "      <td>12.6874</td>\n",
       "      <td>383810.0</td>\n",
       "      <td>POINT (168.12167 -46.90000)</td>\n",
       "    </tr>\n",
       "    <tr>\n",
       "      <th>169799</th>\n",
       "      <td>400925</td>\n",
       "      <td>12.7887</td>\n",
       "      <td>383811.0</td>\n",
       "      <td>POINT (168.12250 -46.90000)</td>\n",
       "    </tr>\n",
       "    <tr>\n",
       "      <th>169800</th>\n",
       "      <td>400931</td>\n",
       "      <td>11.9452</td>\n",
       "      <td>383816.0</td>\n",
       "      <td>POINT (168.12417 -46.90083)</td>\n",
       "    </tr>\n",
       "    <tr>\n",
       "      <th>169801</th>\n",
       "      <td>400936</td>\n",
       "      <td>11.1636</td>\n",
       "      <td>383821.0</td>\n",
       "      <td>POINT (168.12583 -46.90167)</td>\n",
       "    </tr>\n",
       "    <tr>\n",
       "      <th>169802</th>\n",
       "      <td>400938</td>\n",
       "      <td>10.6690</td>\n",
       "      <td>383823.0</td>\n",
       "      <td>POINT (168.12417 -46.90250)</td>\n",
       "    </tr>\n",
       "  </tbody>\n",
       "</table>\n",
       "<p>169803 rows × 4 columns</p>\n",
       "</div>"
      ],
      "text/plain": [
       "        pointid  grid_code    Object                     geometry\n",
       "0          6223    18.8979    6126.0  POINT (172.97000 -34.64500)\n",
       "1          7888    30.7599    7791.0  POINT (173.08000 -34.77333)\n",
       "2          8008    23.3576    7911.0  POINT (173.09000 -34.78083)\n",
       "3          8283    10.2848    8175.0  POINT (173.11667 -34.81083)\n",
       "4          8381    10.2018    8268.0  POINT (173.12583 -34.82167)\n",
       "...         ...        ...       ...                          ...\n",
       "169798   400924    12.6874  383810.0  POINT (168.12167 -46.90000)\n",
       "169799   400925    12.7887  383811.0  POINT (168.12250 -46.90000)\n",
       "169800   400931    11.9452  383816.0  POINT (168.12417 -46.90083)\n",
       "169801   400936    11.1636  383821.0  POINT (168.12583 -46.90167)\n",
       "169802   400938    10.6690  383823.0  POINT (168.12417 -46.90250)\n",
       "\n",
       "[169803 rows x 4 columns]"
      ]
     },
     "execution_count": 26,
     "metadata": {},
     "output_type": "execute_result"
    }
   ],
   "source": [
    "gdf_origin"
   ]
  },
  {
   "cell_type": "code",
   "execution_count": 27,
   "metadata": {},
   "outputs": [],
   "source": [
    "# Set the coordinate reference system (CRS) to WGS84\n",
    "gdf_origin.set_crs(\"EPSG:4326\", inplace=True)\n",
    "gdf_dest.set_crs(\"EPSG:4326\", inplace=True)\n",
    "\n",
    "# Convert CRS to UTM projected coordinates (select according to region)\n",
    "gdf_origin = gdf_origin.to_crs(\"EPSG:32760\")\n",
    "gdf_dest = gdf_dest.to_crs(\"EPSG:32760\")\n",
    "\n",
    "origin_points = gdf_origin.geometry.apply(lambda geom: (geom.x, geom.y)).tolist()\n",
    "dest_points = gdf_dest.geometry.apply(lambda geom: (geom.x, geom.y)).tolist()"
   ]
  },
  {
   "cell_type": "code",
   "execution_count": 30,
   "metadata": {},
   "outputs": [
    {
     "name": "stderr",
     "output_type": "stream",
     "text": [
      "C:\\Program Files (x86)\\Microsoft Visual Studio\\Shared\\Anaconda3_64\\lib\\site-packages\\ipykernel_launcher.py:8: FutureWarning: Assigning CRS to a GeoDataFrame without a geometry column is now deprecated and will not be supported in the future.\n",
      "  \n",
      "100%|████████████████████████████████████████████████████████████████████████| 169803/169803 [1:58:10<00:00, 23.95it/s]\n"
     ]
    }
   ],
   "source": [
    "# Build KDTree\n",
    "tree = cKDTree(dest_points)\n",
    "\n",
    "# Calculate the distance and index of the nearest 3 points\n",
    "distances, indices = tree.query(origin_points, k=3)\n",
    "\n",
    "gdf_result = gpd.GeoDataFrame(columns=['origin', 'dest', 'distance'], crs=\"EPSG:32760\")\n",
    "for i in tqdm(range(len(distances))):\n",
    "    # For each origin point, obtain the coordinates and distances of the three nearest target points\n",
    "    for j in range(3):\n",
    "        dest_point = dest_points[indices[i][j]]\n",
    "        distance = distances[i][j] / 1000  # Convert distance units to kilometers\n",
    "        gdf_result = gdf_result.append({\n",
    "            'origin': Point(origin_points[i]),\n",
    "            'dest': Point(dest_point),\n",
    "            'distance': distance\n",
    "        }, ignore_index=True)"
   ]
  },
  {
   "cell_type": "code",
   "execution_count": 31,
   "metadata": {},
   "outputs": [],
   "source": [
    "gdf_result.to_csv(\"E:/Users/Administrator/Downloads/疫苗公平性/result_filter10.csv\")"
   ]
  },
  {
   "cell_type": "code",
   "execution_count": 61,
   "metadata": {},
   "outputs": [
    {
     "name": "stdout",
     "output_type": "stream",
     "text": [
      "Requirement already satisfied: pyproj in c:\\users\\administrator\\appdata\\local\\programs\\python\\python311\\lib\\site-packages (3.6.1)\n"
     ]
    },
    {
     "name": "stderr",
     "output_type": "stream",
     "text": [
      "ERROR: Could not install packages due to an OSError: Could not find a suitable TLS CA certificate bundle, invalid path: C:\\Program Files (x86)\\Microsoft Visual Studio\\Shared\\Anaconda3_64\\lib\\site-packages\\certifi\\cacert.pem\n",
      "\n",
      "WARNING: There was an error checking the latest version of pip.\n"
     ]
    }
   ],
   "source": [
    "!pip install --upgrade pyproj"
   ]
  },
  {
   "cell_type": "code",
   "execution_count": 69,
   "metadata": {},
   "outputs": [],
   "source": [
    "# Extract the origin column of gdf_origin\n",
    "gdf_origin_sub = gdf_origin[['origin']]\n",
    "# Extract the dest and distance columns of gdf_dest\n",
    "gdf_dest_sub = gdf_dest[['dest', 'distance']]\n",
    "\n",
    "merged_gdf = pd.merge(gdf_origin_sub, gdf_dest_sub, left_index=True, right_index=True)"
   ]
  },
  {
   "cell_type": "code",
   "execution_count": 108,
   "metadata": {},
   "outputs": [
    {
     "name": "stderr",
     "output_type": "stream",
     "text": [
      "100%|████████████████████████████████████████████████████████████████████████████| 42798/42798 [08:51<00:00, 80.45it/s]\n"
     ]
    }
   ],
   "source": [
    "import pandas as pd\n",
    "import requests\n",
    "import json\n",
    "from tqdm import tqdm\n",
    "\n",
    "# OSRM API URL\n",
    "osrm_url = \"http://localhost:9000/route/v1/foot/\"\n",
    "\n",
    "results_df = pd.DataFrame(columns=[\"origin\", \"dest\", \"distance\", \"duration\"])\n",
    "\n",
    "for _, row in tqdm(merged_gdf1.iterrows(), total=merged_gdf1.shape[0]):\n",
    "    origin = [row['origin'].x, row['origin'].y]\n",
    "    dest = [row['dest'].x, row['dest'].y]\n",
    "    location_pair = [origin, dest]\n",
    "    location_str = ';'.join([f\"{lon},{lat}\" for lon, lat in location_pair])\n",
    "    url = osrm_url + location_str\n",
    "    response = requests.get(url)\n",
    "    data = response.json()\n",
    "\n",
    "    try:\n",
    "        for route in data['routes']:\n",
    "            results_df3 = results_df3.append({\n",
    "                \"origin\": origin,\n",
    "                \"dest\": dest,\n",
    "                \"distance\": route['distance'],\n",
    "                \"duration\": route['duration']\n",
    "            }, ignore_index=True)\n",
    "    except KeyError:\n",
    "        # If there is no 'routes' key, continue with the next iteration\n",
    "        results_df3 = results_df3.append({\n",
    "                \"origin\": origin,\n",
    "                \"dest\": dest,\n",
    "                \"distance\": None,\n",
    "                \"duration\": None\n",
    "            }, ignore_index=True)\n",
    "        continue"
   ]
  },
  {
   "cell_type": "code",
   "execution_count": 110,
   "metadata": {},
   "outputs": [],
   "source": [
    "results_df3.to_csv(\"E:/Users/Administrator/Downloads/疫苗公平性/route_466611后.csv\")"
   ]
  },
  {
   "cell_type": "code",
   "execution_count": 126,
   "metadata": {},
   "outputs": [],
   "source": [
    "# Convert the origin column into string format for deduplication\n",
    "df['origin'] = df['origin'].astype(str)\n",
    "\n",
    "# The origin is the same, keep the row with the smallest distance\n",
    "df_min_distance = df.loc[df.groupby('origin')['distance'].idxmin()]\n"
   ]
  },
  {
   "cell_type": "code",
   "execution_count": 127,
   "metadata": {},
   "outputs": [
    {
     "data": {
      "text/html": [
       "<div>\n",
       "<style scoped>\n",
       "    .dataframe tbody tr th:only-of-type {\n",
       "        vertical-align: middle;\n",
       "    }\n",
       "\n",
       "    .dataframe tbody tr th {\n",
       "        vertical-align: top;\n",
       "    }\n",
       "\n",
       "    .dataframe thead th {\n",
       "        text-align: right;\n",
       "    }\n",
       "</style>\n",
       "<table border=\"1\" class=\"dataframe\">\n",
       "  <thead>\n",
       "    <tr style=\"text-align: right;\">\n",
       "      <th></th>\n",
       "      <th>Unnamed: 0</th>\n",
       "      <th>origin</th>\n",
       "      <th>dest</th>\n",
       "      <th>distance</th>\n",
       "      <th>duration</th>\n",
       "    </tr>\n",
       "  </thead>\n",
       "  <tbody>\n",
       "    <tr>\n",
       "      <th>481608</th>\n",
       "      <td>481680</td>\n",
       "      <td>[167.6149993447974, -45.5641662830277]</td>\n",
       "      <td>[168.01362170000004, -46.351761299999964]</td>\n",
       "      <td>126782.1</td>\n",
       "      <td>7161.9</td>\n",
       "    </tr>\n",
       "    <tr>\n",
       "      <th>481611</th>\n",
       "      <td>481683</td>\n",
       "      <td>[167.6158326781274, -45.5641662830277]</td>\n",
       "      <td>[168.01362170000004, -46.351761299999964]</td>\n",
       "      <td>126712.7</td>\n",
       "      <td>7155.6</td>\n",
       "    </tr>\n",
       "    <tr>\n",
       "      <th>481614</th>\n",
       "      <td>481686</td>\n",
       "      <td>[167.61666601145726, -45.564166283027696]</td>\n",
       "      <td>[168.01362170000004, -46.351761299999964]</td>\n",
       "      <td>127021.5</td>\n",
       "      <td>7205.9</td>\n",
       "    </tr>\n",
       "    <tr>\n",
       "      <th>499602</th>\n",
       "      <td>499674</td>\n",
       "      <td>[167.66166601127736, -46.19333294716591]</td>\n",
       "      <td>[168.01362170000004, -46.351761299999964]</td>\n",
       "      <td>40178.8</td>\n",
       "      <td>1867.3</td>\n",
       "    </tr>\n",
       "    <tr>\n",
       "      <th>499605</th>\n",
       "      <td>499677</td>\n",
       "      <td>[167.66249934460734, -46.19333294716591]</td>\n",
       "      <td>[168.01362170000004, -46.351761299999964]</td>\n",
       "      <td>40193.4</td>\n",
       "      <td>1868.0</td>\n",
       "    </tr>\n",
       "    <tr>\n",
       "      <th>...</th>\n",
       "      <td>...</td>\n",
       "      <td>...</td>\n",
       "      <td>...</td>\n",
       "      <td>...</td>\n",
       "      <td>...</td>\n",
       "    </tr>\n",
       "    <tr>\n",
       "      <th>227043</th>\n",
       "      <td>227043</td>\n",
       "      <td>[178.41249930161473, -37.79249964759395]</td>\n",
       "      <td>[178.31943890000002, -37.88995259999996]</td>\n",
       "      <td>21629.3</td>\n",
       "      <td>1358.0</td>\n",
       "    </tr>\n",
       "    <tr>\n",
       "      <th>227394</th>\n",
       "      <td>227394</td>\n",
       "      <td>[178.41249930161473, -37.79333298092393]</td>\n",
       "      <td>[178.31943890000002, -37.88995259999996]</td>\n",
       "      <td>21499.3</td>\n",
       "      <td>1339.2</td>\n",
       "    </tr>\n",
       "    <tr>\n",
       "      <th>190305</th>\n",
       "      <td>190305</td>\n",
       "      <td>[178.42333263490468, -37.63916631487683]</td>\n",
       "      <td>[178.31943890000002, -37.88995259999996]</td>\n",
       "      <td>51065.9</td>\n",
       "      <td>3260.9</td>\n",
       "    </tr>\n",
       "    <tr>\n",
       "      <th>190266</th>\n",
       "      <td>190266</td>\n",
       "      <td>[178.4441659681545, -37.638332981546846]</td>\n",
       "      <td>[178.31943890000002, -37.88995259999996]</td>\n",
       "      <td>52681.1</td>\n",
       "      <td>3493.1</td>\n",
       "    </tr>\n",
       "    <tr>\n",
       "      <th>219786</th>\n",
       "      <td>219786</td>\n",
       "      <td>[178.45666596810452, -37.769999647684344]</td>\n",
       "      <td>[178.31943890000002, -37.88995259999996]</td>\n",
       "      <td>26533.5</td>\n",
       "      <td>2060.8</td>\n",
       "    </tr>\n",
       "  </tbody>\n",
       "</table>\n",
       "<p>169779 rows × 5 columns</p>\n",
       "</div>"
      ],
      "text/plain": [
       "        Unnamed: 0                                     origin  \\\n",
       "481608      481680     [167.6149993447974, -45.5641662830277]   \n",
       "481611      481683     [167.6158326781274, -45.5641662830277]   \n",
       "481614      481686  [167.61666601145726, -45.564166283027696]   \n",
       "499602      499674   [167.66166601127736, -46.19333294716591]   \n",
       "499605      499677   [167.66249934460734, -46.19333294716591]   \n",
       "...            ...                                        ...   \n",
       "227043      227043   [178.41249930161473, -37.79249964759395]   \n",
       "227394      227394   [178.41249930161473, -37.79333298092393]   \n",
       "190305      190305   [178.42333263490468, -37.63916631487683]   \n",
       "190266      190266   [178.4441659681545, -37.638332981546846]   \n",
       "219786      219786  [178.45666596810452, -37.769999647684344]   \n",
       "\n",
       "                                             dest  distance  duration  \n",
       "481608  [168.01362170000004, -46.351761299999964]  126782.1    7161.9  \n",
       "481611  [168.01362170000004, -46.351761299999964]  126712.7    7155.6  \n",
       "481614  [168.01362170000004, -46.351761299999964]  127021.5    7205.9  \n",
       "499602  [168.01362170000004, -46.351761299999964]   40178.8    1867.3  \n",
       "499605  [168.01362170000004, -46.351761299999964]   40193.4    1868.0  \n",
       "...                                           ...       ...       ...  \n",
       "227043   [178.31943890000002, -37.88995259999996]   21629.3    1358.0  \n",
       "227394   [178.31943890000002, -37.88995259999996]   21499.3    1339.2  \n",
       "190305   [178.31943890000002, -37.88995259999996]   51065.9    3260.9  \n",
       "190266   [178.31943890000002, -37.88995259999996]   52681.1    3493.1  \n",
       "219786   [178.31943890000002, -37.88995259999996]   26533.5    2060.8  \n",
       "\n",
       "[169779 rows x 5 columns]"
      ]
     },
     "execution_count": 127,
     "metadata": {},
     "output_type": "execute_result"
    }
   ],
   "source": [
    "df_min_distance"
   ]
  },
  {
   "cell_type": "code",
   "execution_count": 132,
   "metadata": {},
   "outputs": [],
   "source": [
    "# Split the origin and dest columns\n",
    "df_min_distance[['origin_x', 'origin_y']] = pd.DataFrame(df_min_distance['origin'].to_list(), index=df_min_distance.index)\n",
    "df_min_distance[['dest_x', 'dest_y']] = pd.DataFrame(df_min_distance['dest'].to_list(), index=df_min_distance.index)\n"
   ]
  },
  {
   "cell_type": "code",
   "execution_count": 134,
   "metadata": {},
   "outputs": [],
   "source": [
    "df_min_distance.to_csv(\"E:/Users/Administrator/Downloads/疫苗公平性/NewZealand_calculate.csv\")"
   ]
  }
 ],
 "metadata": {
  "kernelspec": {
   "display_name": "Python 3",
   "language": "python",
   "name": "python3"
  },
  "language_info": {
   "codemirror_mode": {
    "name": "ipython",
    "version": 3
   },
   "file_extension": ".py",
   "mimetype": "text/x-python",
   "name": "python",
   "nbconvert_exporter": "python",
   "pygments_lexer": "ipython3",
   "version": "3.9.11"
  }
 },
 "nbformat": 4,
 "nbformat_minor": 2
}

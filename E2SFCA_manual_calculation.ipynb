{
 "cells": [
  {
   "cell_type": "code",
   "execution_count": 14,
   "id": "3028e010",
   "metadata": {},
   "outputs": [
    {
     "name": "stdout",
     "output_type": "stream",
     "text": [
      "469038.040455512\n"
     ]
    }
   ],
   "source": [
    "#Function\n",
    "from math import *\n",
    "d = 30*60 #minute * 60\n",
    "W = 0.001\n",
    "beta = -d ** 2 / log(W)\n",
    "print(beta)"
   ]
  },
  {
   "cell_type": "code",
   "execution_count": null,
   "id": "ec39f6d6",
   "metadata": {},
   "outputs": [],
   "source": [
    "!pip install math\n",
    "import math\n",
    "import pandas as pd \n",
    "import numpy as np"
   ]
  },
  {
   "cell_type": "code",
   "execution_count": null,
   "id": "d5a1f05e",
   "metadata": {},
   "outputs": [],
   "source": [
    "Country=pd.read_csv(\"F:/Combine/UAE_OSRM_Accessibility.csv\")\n",
    "# Drop NaN\n",
    "\n",
    "# Convert 'duration' to numeric, coercing errors to NaN\n",
    "Country['duration'] = pd.to_numeric(Country['duration'], errors='coerce')\n",
    "\n",
    "# Drop rows with NaN values in 'duration' column\n",
    "Country = Country.dropna(subset=['duration'])\n",
    "Country['grid_code'] = pd.to_numeric(Country['grid_code'], errors='coerce')"
   ]
  },
  {
   "cell_type": "code",
   "execution_count": null,
   "id": "0c293c2b",
   "metadata": {},
   "outputs": [
    {
     "name": "stderr",
     "output_type": "stream",
     "text": [
      "<ipython-input-41-d4734834589e>:45: SettingWithCopyWarning: \n",
      "A value is trying to be set on a copy of a slice from a DataFrame.\n",
      "Try using .loc[row_indexer,col_indexer] = value instead\n",
      "\n",
      "See the caveats in the documentation: https://pandas.pydata.org/pandas-docs/stable/user_guide/indexing.html#returning-a-view-versus-a-copy\n",
      "  Country_acc_new['Accessibility_standard'] = scaler.fit_transform(Country_acc_new[['Accessibility']])\n"
     ]
    }
   ],
   "source": [
    "Country['unique_code'] = Country[['dest_longitude', 'dest_latitude']].apply(lambda x: hash(tuple(x)), axis=1)\n",
    "Country_acc=Country #backup \n",
    "\n",
    "# Apply the exponential decay function\n",
    "Country_acc['Weight'] = Country_acc['duration'].apply(lambda d: round(math.exp(-d**2/beta), 8))\n",
    "\n",
    "#compute pop*weight\n",
    "Country_acc['Pop_W']=Country_acc['grid_code']*Country_acc['Weight'] \n",
    "\n",
    "#compute sum(pop_weight)\n",
    "Countrysum_=Country_acc.groupby(by='unique_code')['Pop_W'].sum().reset_index() \n",
    "\n",
    "#join sum(pop weight) to the original table\n",
    "Country_acc=Country_acc.merge(Countrysum_,on='unique_code')\n",
    "\n",
    "#supply=1\n",
    "supply=1\n",
    "Country_acc = Country_acc.rename(columns={'Pop_W_y': 'Pop_W_S'})#Pop_W_S:POP_WEIGHT_SUM\n",
    "\n",
    "#compute Rj\n",
    "Country_acc['supply_demand_ratio']=1/Country_acc.Pop_W_S\n",
    "Country_acc['supply_demand_ratio'].replace([np.inf, np.nan], 0, inplace=True)\n",
    "\n",
    "#Rj*W\n",
    "Country_acc['supply_W']=Country_acc['supply_demand_ratio']*Country_acc.Weight \n",
    "\n",
    "#get Ai = sum(Rj*W)\n",
    "Country_acc['Accessibility'] = Country_acc.groupby('pointid')['supply_W'].transform('sum')\n",
    "Country_acc_new= Country_acc.drop_duplicates(subset=['pointid'])\n",
    "\n",
    "# Normalize\n",
    "from sklearn.preprocessing import MinMaxScaler\n",
    "\n",
    "scaler = MinMaxScaler()\n",
    "Country_acc_new['Accessibility_standard'] = scaler.fit_transform(Country_acc_new[['Accessibility']])\n",
    "Country_acc_new.to_csv(\"E:/Users/Administrator/Downloads/OSRM_Malawi/Uganda.csv\")\n"
   ]
  }
 ],
 "metadata": {
  "kernelspec": {
   "display_name": "Python 3 (ipykernel)",
   "language": "python",
   "name": "python3"
  },
  "language_info": {
   "codemirror_mode": {
    "name": "ipython",
    "version": 3
   },
   "file_extension": ".py",
   "mimetype": "text/x-python",
   "name": "python",
   "nbconvert_exporter": "python",
   "pygments_lexer": "ipython3",
   "version": "3.9.12"
  }
 },
 "nbformat": 4,
 "nbformat_minor": 5
}
